{
 "cells": [
  {
   "cell_type": "markdown",
   "metadata": {},
   "source": [
    "\n",
    "### Titanic Plotting\n",
    "- Load data generated previously from 'titanic_filtered.csv'\n",
    "- plot histogram of ages of people\n",
    "- plot no of people in each pclass on bar chart\n",
    "\n",
    "\n",
    "- plot a horizontal bar-chart depicting the ratio of males to females\n",
    "- plot a bar-chart depicting the ratio of male-survived, female-survived, male-dead, female-dead. \n",
    "- plot a stacked bar chart of number of male-survived,dead and female-survived, dead.\n",
    "- plot stacked bar of survived with different pclass in same bar.\n",
    "\n",
    "\n",
    "- plot box plot of ages of survived vs not-survived\n",
    "- plot scatter plot of ages vs survived."
   ]
  },
  {
   "cell_type": "code",
   "execution_count": 1,
   "metadata": {},
   "outputs": [],
   "source": [
    "import pandas as pd\n",
    "import matplotlib.pyplot as plt"
   ]
  },
  {
   "cell_type": "code",
   "execution_count": 3,
   "metadata": {},
   "outputs": [
    {
     "name": "stdout",
     "output_type": "stream",
     "text": [
      "        Unnamed: 0       pclass     survived          age        sibsp  \\\n",
      "count  1307.000000  1307.000000  1307.000000  1307.000000  1307.000000   \n",
      "mean    654.654935     2.296863     0.381025    29.850348     0.499617   \n",
      "std     377.931070     0.836942     0.485825    12.860391     1.042273   \n",
      "min       0.000000     1.000000     0.000000     0.166700     0.000000   \n",
      "25%     328.500000     2.000000     0.000000    22.000000     0.000000   \n",
      "50%     655.000000     3.000000     0.000000    29.881135     0.000000   \n",
      "75%     981.500000     3.000000     1.000000    35.000000     1.000000   \n",
      "max    1308.000000     3.000000     1.000000    80.000000     8.000000   \n",
      "\n",
      "             parch        fare  \n",
      "count  1307.000000  1306.00000  \n",
      "mean      0.385616    33.22474  \n",
      "std       0.866092    51.76601  \n",
      "min       0.000000     0.00000  \n",
      "25%       0.000000     7.90000  \n",
      "50%       0.000000    14.45000  \n",
      "75%       0.000000    31.28000  \n",
      "max       9.000000   512.33000  \n"
     ]
    },
    {
     "data": {
      "text/plain": [
       "(array([ 72.,  62., 274., 513., 160., 108.,  65.,  40.,  10.,   3.]),\n",
       " array([ 0.1667 ,  8.15003, 16.13336, 24.11669, 32.10002, 40.08335,\n",
       "        48.06668, 56.05001, 64.03334, 72.01667, 80.     ]),\n",
       " <a list of 10 Patch objects>)"
      ]
     },
     "execution_count": 3,
     "metadata": {},
     "output_type": "execute_result"
    },
    {
     "data": {
      "image/png": "[encoded data removed]",
      "text/plain": [
       "<Figure size 432x288 with 1 Axes>"
      ]
     },
     "metadata": {
      "needs_background": "light"
     },
     "output_type": "display_data"
    }
   ],
   "source": [
    "# plot histogram of ages of people\n",
    "t_csv=pd.read_csv(r\"C:\\Users\\Renny\\LB_Class\\titanic_filtered.csv\")\n",
    "print(t_csv.describe())\n",
    "\n",
    "plt.hist(t_csv['age'])"
   ]
  },
  {
   "cell_type": "code",
   "execution_count": 4,
   "metadata": {},
   "outputs": [
    {
     "data": {
      "text/plain": [
       "<matplotlib.axes._subplots.AxesSubplot at 0x1ab2c6dbc88>"
      ]
     },
     "execution_count": 4,
     "metadata": {},
     "output_type": "execute_result"
    },
    {
     "data": {
      "image/png": "[encoded data removed]",
      "text/plain": [
       "<Figure size 432x288 with 1 Axes>"
      ]
     },
     "metadata": {
      "needs_background": "light"
     },
     "output_type": "display_data"
    }
   ],
   "source": [
    "# plot no of people in each pclass on bar chart\n",
    "pclass_np = t_csv['pclass'].value_counts()\n",
    "pclass_np.plot(kind='bar')"
   ]
  },
  {
   "cell_type": "code",
   "execution_count": 5,
   "metadata": {},
   "outputs": [
    {
     "data": {
      "text/plain": [
       "<matplotlib.axes._subplots.AxesSubplot at 0x1ab2c649908>"
      ]
     },
     "execution_count": 5,
     "metadata": {},
     "output_type": "execute_result"
    },
    {
     "data": {
      "image/png": "[encoded data removed]",
      "text/plain": [
       "<Figure size 432x288 with 1 Axes>"
      ]
     },
     "metadata": {
      "needs_background": "light"
     },
     "output_type": "display_data"
    }
   ],
   "source": [
    "# plot a bar-chart depicting the ratio of males to females\n",
    "gend = t_csv['gender'].value_counts()\n",
    "gend.plot(kind='bar')"
   ]
  },
  {
   "cell_type": "code",
   "execution_count": 8,
   "metadata": {},
   "outputs": [
    {
     "data": {
      "text/plain": [
       "<BarContainer object of 4 artists>"
      ]
     },
     "execution_count": 8,
     "metadata": {},
     "output_type": "execute_result"
    },
    {
     "data": {
      "image/png": "[encoded data removed]",
      "text/plain": [
       "<Figure size 432x288 with 1 Axes>"
      ]
     },
     "metadata": {
      "needs_background": "light"
     },
     "output_type": "display_data"
    }
   ],
   "source": [
    "# plot a bar-chart depicting the ratio of male-survived, female-survived, male-dead, female-dead.\n",
    "group_gend = t_csv.groupby(by = [\"gender\"])\n",
    "df = group_gend[\"survived\"].value_counts()\n",
    "m_Survived= df.male[1]\n",
    "m_NotSurvived= df.male[0]\n",
    "f_Survived= df.female[1]\n",
    "f_NotSurvived= df.female[0]\n",
    "\n",
    "x= pd.Series([\"male-1\",\"male-0\",\"female-1\",\"female-0\"])\n",
    "ppl = pd.Series([m_Survived,m_NotSurvived,f_Survived,f_NotSurvived])\n",
    "plt.bar(x, ppl)"
   ]
  },
  {
   "cell_type": "code",
   "execution_count": 9,
   "metadata": {},
   "outputs": [
    {
     "data": {
      "text/plain": [
       "<BarContainer object of 2 artists>"
      ]
     },
     "execution_count": 9,
     "metadata": {},
     "output_type": "execute_result"
    },
    {
     "data": {
      "image/png": "[encoded data removed]",
      "text/plain": [
       "<Figure size 432x288 with 1 Axes>"
      ]
     },
     "metadata": {
      "needs_background": "light"
     },
     "output_type": "display_data"
    }
   ],
   "source": [
    "# plot a stacked bar chart of number of male-survived,dead and female-survived, dead.\n",
    "group_gend = t_csv.groupby(by = [\"gender\"])\n",
    "df = group_gend[\"survived\"].value_counts()\n",
    "x= pd.Series([\"male\",\"female\"])\n",
    "ppl_Survived = pd.Series([df.male[1],df.female[1]])\n",
    "pp_NotSurvived = pd.Series([df.male[0],df.female[0]])\n",
    "\n",
    "plt.bar(x, ppl_Survived)\n",
    "plt.bar(x, pp_NotSurvived, bottom= ppl_Survived)\n"
   ]
  },
  {
   "cell_type": "code",
   "execution_count": 10,
   "metadata": {},
   "outputs": [
    {
     "data": {
      "text/plain": [
       "<BarContainer object of 3 artists>"
      ]
     },
     "execution_count": 10,
     "metadata": {},
     "output_type": "execute_result"
    },
    {
     "data": {
      "image/png": "[encoded data removed]",
      "text/plain": [
       "<Figure size 432x288 with 1 Axes>"
      ]
     },
     "metadata": {
      "needs_background": "light"
     },
     "output_type": "display_data"
    }
   ],
   "source": [
    "# plot stacked bar of survived with different pclass in same bar\n",
    "\n",
    "group_gend = t_csv.groupby(by = [\"survived\"])\n",
    "df = group_gend[\"pclass\"].value_counts()\n",
    "survived = pd.Series([df[1][1],df[1][2],df[1][3]])\n",
    "notSurvived = pd.Series([df[0][1],df[0][2],df[0][3]])\n",
    "\n",
    "pclass = pd.Series([\"1\",\"2\",\"3\"])\n",
    "plt.bar(pclass, survived)\n",
    "plt.bar(pclass,notSurvived, bottom= survived)\n"
   ]
  },
  {
   "cell_type": "code",
   "execution_count": 11,
   "metadata": {},
   "outputs": [
    {
     "data": {
      "text/plain": [
       "{'whiskers': [<matplotlib.lines.Line2D at 0x1ab2ca115c8>,\n",
       "  <matplotlib.lines.Line2D at 0x1ab2ca22d88>,\n",
       "  <matplotlib.lines.Line2D at 0x1ab2ca37ec8>,\n",
       "  <matplotlib.lines.Line2D at 0x1ab2ca37fc8>],\n",
       " 'caps': [<matplotlib.lines.Line2D at 0x1ab2ca22e08>,\n",
       "  <matplotlib.lines.Line2D at 0x1ab2ca2bd08>,\n",
       "  <matplotlib.lines.Line2D at 0x1ab2ca3cf48>,\n",
       "  <matplotlib.lines.Line2D at 0x1ab2ca3cec8>],\n",
       " 'boxes': [<matplotlib.lines.Line2D at 0x1ab2ca22188>,\n",
       "  <matplotlib.lines.Line2D at 0x1ab2ca30e88>],\n",
       " 'medians': [<matplotlib.lines.Line2D at 0x1ab2ca2be08>,\n",
       "  <matplotlib.lines.Line2D at 0x1ab2ca3ffc8>],\n",
       " 'fliers': [<matplotlib.lines.Line2D at 0x1ab2ca30c88>,\n",
       "  <matplotlib.lines.Line2D at 0x1ab2ca3ff88>],\n",
       " 'means': []}"
      ]
     },
     "execution_count": 11,
     "metadata": {},
     "output_type": "execute_result"
    },
    {
     "data": {
      "image/png": "[encoded data removed]",
      "text/plain": [
       "<Figure size 432x288 with 1 Axes>"
      ]
     },
     "metadata": {
      "needs_background": "light"
     },
     "output_type": "display_data"
    }
   ],
   "source": [
    "# plot box plot of ages of survived vs not-survived\n",
    "\n",
    "\n",
    "survivedData = (t_csv[t_csv[\"survived\"] > 0])[\"age\"]\n",
    "notSurvivedData = (t_csv[t_csv[\"survived\"] == 0])[\"age\"]\n",
    "plt.boxplot([survivedData,notSurvivedData])"
   ]
  },
  {
   "cell_type": "code",
   "execution_count": 12,
   "metadata": {},
   "outputs": [
    {
     "data": {
      "text/plain": [
       "<matplotlib.collections.PathCollection at 0x1ab2bd56c08>"
      ]
     },
     "execution_count": 12,
     "metadata": {},
     "output_type": "execute_result"
    },
    {
     "data": {
      "image/png": "[encoded data removed]",
      "text/plain": [
       "<Figure size 1080x216 with 1 Axes>"
      ]
     },
     "metadata": {
      "needs_background": "light"
     },
     "output_type": "display_data"
    }
   ],
   "source": [
    "# plot scatter plot of ages vs survived.\n",
    "ages = t_csv[\"age\"]\n",
    "survived = t_csv[\"survived\"]\n",
    "plt.figure(figsize=(15,3))\n",
    "plt.scatter(ages, survived)"
   ]
  },
  {
   "cell_type": "code",
   "execution_count": null,
   "metadata": {},
   "outputs": [],
   "source": []
  }
 ],
 "metadata": {
  "kernelspec": {
   "display_name": "Python 3",
   "language": "python",
   "name": "python3"
  },
  "language_info": {
   "codemirror_mode": {
    "name": "ipython",
    "version": 3
   },
   "file_extension": ".py",
   "mimetype": "text/x-python",
   "name": "python",
   "nbconvert_exporter": "python",
   "pygments_lexer": "ipython3",
   "version": "3.7.6"
  }
 },
 "nbformat": 4,
 "nbformat_minor": 2
}
